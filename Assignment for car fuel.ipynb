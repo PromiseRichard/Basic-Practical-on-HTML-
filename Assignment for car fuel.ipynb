{
 "cells": [
  {
   "cell_type": "code",
   "execution_count": 20,
   "id": "f9583bd6",
   "metadata": {},
   "outputs": [],
   "source": [
    "numberofdays= 6\n",
    "a= numberofdays\n",
    "numberofmonths= 3\n",
    "b= numberofmonths\n",
    "c=b*4\n",
    "d=c*a\n",
    "e=100\n",
    "f=e*d/a\n",
    "g= 120\n",
    "h=g*d/a\n",
    "print(\"amount of fuel used is\",f )\n"
   ]
  },
  {
   "cell_type": "code",
   "execution_count": 13,
   "id": "f5d20049",
   "metadata": {},
   "outputs": [],
   "source": []
  },
  {
   "cell_type": "code",
   "execution_count": null,
   "id": "df25dd01",
   "metadata": {},
   "outputs": [],
   "source": []
  }
 ],
 "metadata": {
  "kernelspec": {
   "display_name": "Python 3 (ipykernel)",
   "language": "python",
   "name": "python3"
  },
  "language_info": {
   "codemirror_mode": {
    "name": "ipython",
    "version": 3
   },
   "file_extension": ".py",
   "mimetype": "text/x-python",
   "name": "python",
   "nbconvert_exporter": "python",
   "pygments_lexer": "ipython3",
   "version": "3.11.1"
  }
 },
 "nbformat": 4,
 "nbformat_minor": 5
}
